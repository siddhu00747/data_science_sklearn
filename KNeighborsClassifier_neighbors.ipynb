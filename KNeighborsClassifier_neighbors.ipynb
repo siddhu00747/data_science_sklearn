{
 "cells": [
  {
   "cell_type": "code",
   "execution_count": 22,
   "id": "cb4212fd-5da2-468f-8e1b-514e456cf39a",
   "metadata": {},
   "outputs": [
    {
     "name": "stdin",
     "output_type": "stream",
     "text": [
      "Enter your age:  20\n",
      "Enter your salary:  20000\n",
      "Enter history:  1\n"
     ]
    },
    {
     "name": "stdout",
     "output_type": "stream",
     "text": [
      "Predicted class: 0\n"
     ]
    }
   ],
   "source": [
    "import numpy as np\n",
    "import pandas as pd\n",
    "from sklearn.model_selection import train_test_split\n",
    "from sklearn.preprocessing import StandardScaler   # ye data ko scale krta hai\n",
    "from sklearn.neighbors import KNeighborsClassifier   # ye hmara model hai\n",
    "\n",
    "# Sample data\n",
    "data = np.array([[25,50000,2],[30,80000,1],[35,60000,3],[20,30000,2],[40,90000,1],[45,75000,2]])\n",
    "labels = np.array([1,2,1,0,2,1])\n",
    "\n",
    "# Splitting the data\n",
    "x_train, x_test, y_train, y_test = train_test_split(data, labels, test_size=0.2, random_state=42)\n",
    "\n",
    "# Initializing the scaler\n",
    "scaler = StandardScaler()   # ye scale kr deta hai data ko\n",
    "\n",
    "# Scaling the training data\n",
    "x_train = scaler.fit_transform(x_train)\n",
    "\n",
    "# Scaling the testing data\n",
    "x_test = scaler.transform(x_test)  # Note the use of transform only\n",
    "\n",
    "# Initializing the KNN model\n",
    "model = KNeighborsClassifier(n_neighbors=3)\n",
    "\n",
    "# Training the model\n",
    "model.fit(x_train, y_train)\n",
    "\n",
    "# User input\n",
    "user_age = int(input('Enter your age: '))\n",
    "user_salary = int(input('Enter your salary: '))\n",
    "user_history = int(input('Enter history: '))\n",
    "\n",
    "# Preparing user data\n",
    "user_data = np.array([[user_age, user_salary, user_history]])\n",
    "user_data = scaler.transform(user_data)  # Note the use of transform only\n",
    "\n",
    "# Making a prediction\n",
    "prediction = model.predict(user_data)\n",
    "print(f'Predicted class: {prediction[0]}')\n"
   ]
  },
  {
   "cell_type": "code",
   "execution_count": null,
   "id": "7f464d94-8143-4aec-b533-87d1b5aa0588",
   "metadata": {},
   "outputs": [],
   "source": []
  }
 ],
 "metadata": {
  "kernelspec": {
   "display_name": "Python 3 (ipykernel)",
   "language": "python",
   "name": "python3"
  },
  "language_info": {
   "codemirror_mode": {
    "name": "ipython",
    "version": 3
   },
   "file_extension": ".py",
   "mimetype": "text/x-python",
   "name": "python",
   "nbconvert_exporter": "python",
   "pygments_lexer": "ipython3",
   "version": "3.12.0"
  }
 },
 "nbformat": 4,
 "nbformat_minor": 5
}
