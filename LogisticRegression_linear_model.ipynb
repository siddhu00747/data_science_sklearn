{
 "cells": [
  {
   "cell_type": "code",
   "execution_count": 43,
   "id": "cca11333-9160-4d75-be98-55816923c183",
   "metadata": {},
   "outputs": [
    {
     "name": "stdout",
     "output_type": "stream",
     "text": [
      "1.0\n"
     ]
    },
    {
     "name": "stdin",
     "output_type": "stream",
     "text": [
      "enter you age 25\n",
      "enter your time 30\n",
      " if you buy press 1 else 0 1\n"
     ]
    },
    {
     "name": "stdout",
     "output_type": "stream",
     "text": [
      "[0]\n"
     ]
    }
   ],
   "source": [
    "import numpy as np\n",
    "import pandas as pd\n",
    "from sklearn.model_selection import train_test_split\n",
    "from sklearn.linear_model import LogisticRegression\n",
    "\n",
    "X = np.array([[25,30,0],[30,40,1],[20,35,0],[35,45,1]])\n",
    "Y = np.array([0,1,0,1])\n",
    "\n",
    "x_train,x_test,y_train,y_test = train_test_split(X,Y, test_size=0.2 , random_state=42)\n",
    "\n",
    "model = LogisticRegression()\n",
    "\n",
    "model.fit(x_train,y_train)\n",
    "accuret=model.score(x_test,y_test)\n",
    "print(accuret)\n",
    "age=float(input('enter you age'))\n",
    "time= float(input('enter your time'))\n",
    "buy= int(input(' if you buy press 1 else 0'))\n",
    "data = np.array([[age,time,buy]])\n",
    "a= model.predict(data)\n",
    "print(a)\n",
    "\n"
   ]
  },
  {
   "cell_type": "code",
   "execution_count": 49,
   "id": "a18ea7bf-ae57-49c3-95b7-d8a3f408d255",
   "metadata": {},
   "outputs": [
    {
     "name": "stdout",
     "output_type": "stream",
     "text": [
      "1.0\n"
     ]
    },
    {
     "name": "stdin",
     "output_type": "stream",
     "text": [
      "enter your age  25\n",
      "enter your spend time  50\n"
     ]
    },
    {
     "data": {
      "text/plain": [
       "array([1])"
      ]
     },
     "execution_count": 49,
     "metadata": {},
     "output_type": "execute_result"
    }
   ],
   "source": [
    "a = X[0:4,0:2]\n",
    "b = Y\n",
    "a_train,a_test,b_train,b_test= train_test_split(a,b, test_size=0.2 , random_state=42)\n",
    "\n",
    "model1 = LogisticRegression()\n",
    "\n",
    "model1.fit(a_train,b_train)\n",
    "\n",
    "print(model1.score(a_test,b_test))\n",
    "\n",
    "ug=float(input('enter your age '))\n",
    "\n",
    "t= float(input('enter your spend time '))\n",
    "\n",
    "user = np.array([[ug,t]])\n",
    "\n",
    "model1.predict(user)"
   ]
  },
  {
   "cell_type": "code",
   "execution_count": null,
   "id": "ae581885-8f7b-40bc-b8d5-c1eabf4ab46e",
   "metadata": {},
   "outputs": [],
   "source": []
  }
 ],
 "metadata": {
  "kernelspec": {
   "display_name": "Python 3 (ipykernel)",
   "language": "python",
   "name": "python3"
  },
  "language_info": {
   "codemirror_mode": {
    "name": "ipython",
    "version": 3
   },
   "file_extension": ".py",
   "mimetype": "text/x-python",
   "name": "python",
   "nbconvert_exporter": "python",
   "pygments_lexer": "ipython3",
   "version": "3.12.0"
  }
 },
 "nbformat": 4,
 "nbformat_minor": 5
}
