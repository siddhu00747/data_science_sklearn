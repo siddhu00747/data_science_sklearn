{
 "cells": [
  {
   "cell_type": "code",
   "execution_count": 1,
   "id": "10aaa805-ec79-471f-8572-f857a09406f2",
   "metadata": {},
   "outputs": [
    {
     "name": "stdin",
     "output_type": "stream",
     "text": [
      "enter your study time:  20\n"
     ]
    },
    {
     "name": "stdout",
     "output_type": "stream",
     "text": [
      "you score is: [164.1]\n"
     ]
    },
    {
     "name": "stderr",
     "output_type": "stream",
     "text": [
      "C:\\Users\\siddh\\AppData\\Local\\Programs\\Python\\Python312\\Lib\\site-packages\\sklearn\\base.py:465: UserWarning: X does not have valid feature names, but LinearRegression was fitted with feature names\n",
      "  warnings.warn(\n"
     ]
    }
   ],
   "source": [
    "import numpy as np\n",
    "import pandas as pd\n",
    "from sklearn.model_selection import train_test_split\n",
    "from sklearn.linear_model import LinearRegression   # ye model os data k liye use krte hai jo accending(0 to 100 like=10,20,30..) hora ho\n",
    "\n",
    "data= { 'hours_study': [2,3,4,5,6,7,8,9], 'exam_score': [50,60,70,75,80,85,90,95]}\n",
    "\n",
    "df= pd.DataFrame(data)\n",
    "\n",
    "type(df)\n",
    "\n",
    "X = df[['hours_study']]\n",
    "y = df[['exam_score']]\n",
    "\n",
    "### 80% train krte hai 20% test krte hai\n",
    "\n",
    "# 0.2 ka mtlb 20% hota hai 42 ka mtlb ek hi trike ka data aata hai\n",
    "# 80% 20% 80% 20% k hisaab se ye variable mai data daal deta hai\n",
    "X_train,X_test,y_train,y_test = train_test_split(X,y, test_size=0.2, random_state=42)  # jo hme predict krna hota hai ose 2nd m likhte hai (X,y) y ko predict krna tha\n",
    "\n",
    "model=LinearRegression()   # LinearRegression ko hmne ek model mai store kr diya\n",
    "\n",
    "model.fit(X_train,y_train)\n",
    "\n",
    "user= float(input('enter your study time: '))\n",
    "\n",
    "predicted_score= model.predict([[user]])\n",
    "\n",
    "print(f'you score is: {predicted_score[0]}')"
   ]
  },
  {
   "cell_type": "code",
   "execution_count": 3,
   "id": "6e328d87-f0bd-4928-93c2-2d36b1968f3c",
   "metadata": {},
   "outputs": [],
   "source": [
    "# print(X_train)\n",
    "# print(X_test)\n",
    "# print(y_train)\n",
    "# print(y_test)"
   ]
  },
  {
   "cell_type": "code",
   "execution_count": null,
   "id": "e039d187-7b37-41e0-91dd-61c844343834",
   "metadata": {},
   "outputs": [],
   "source": []
  }
 ],
 "metadata": {
  "kernelspec": {
   "display_name": "Python 3 (ipykernel)",
   "language": "python",
   "name": "python3"
  },
  "language_info": {
   "codemirror_mode": {
    "name": "ipython",
    "version": 3
   },
   "file_extension": ".py",
   "mimetype": "text/x-python",
   "name": "python",
   "nbconvert_exporter": "python",
   "pygments_lexer": "ipython3",
   "version": "3.12.0"
  }
 },
 "nbformat": 4,
 "nbformat_minor": 5
}
