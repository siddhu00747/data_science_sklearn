{
 "cells": [
  {
   "cell_type": "markdown",
   "id": "693e3ef5-d6d7-4804-be55-cf487b76d568",
   "metadata": {},
   "source": [
    "## linearregression"
   ]
  },
  {
   "cell_type": "code",
   "execution_count": 20,
   "id": "882f6a73-12f5-4d88-8872-cee2b9cee651",
   "metadata": {},
   "outputs": [
    {
     "name": "stdin",
     "output_type": "stream",
     "text": [
      "enter your work  12\n"
     ]
    },
    {
     "name": "stdout",
     "output_type": "stream",
     "text": [
      "your working time is 12 so your salary is [[12000.]]\n"
     ]
    },
    {
     "name": "stderr",
     "output_type": "stream",
     "text": [
      "C:\\Users\\siddh\\AppData\\Local\\Programs\\Python\\Python312\\Lib\\site-packages\\sklearn\\base.py:465: UserWarning: X does not have valid feature names, but LinearRegression was fitted with feature names\n",
      "  warnings.warn(\n"
     ]
    }
   ],
   "source": [
    "import numpy as np\n",
    "import pandas as pd\n",
    "from sklearn.model_selection import train_test_split\n",
    "from sklearn.linear_model import LinearRegression\n",
    "\n",
    "a={'work':[10,20,30,40,50,60],\n",
    "   'salary':[10000,20000,30000,40000,50000,60000]}\n",
    "data = pd.DataFrame(a)\n",
    "data\n",
    "\n",
    "x = data[['work']]\n",
    "y = data[['salary']]\n",
    "\n",
    "x_train,x_test,y_train,y_test = train_test_split(x,y, test_size=0.2, random_state=42)\n",
    "\n",
    "model = LinearRegression()\n",
    "\n",
    "model.fit(x_train,y_train)\n",
    "\n",
    "user = int(input('enter your work '))\n",
    "sal=model.predict([[user]])\n",
    "print(f'your working time is {user} so your salary is {sal}')\n",
    "\n"
   ]
  },
  {
   "cell_type": "markdown",
   "id": "5dc9d07a-7b51-40f4-a390-2544cfa562cc",
   "metadata": {},
   "source": [
    "## logistic regression"
   ]
  },
  {
   "cell_type": "code",
   "execution_count": 31,
   "id": "85878bb8-f419-43f4-b1e9-b35226e81d95",
   "metadata": {},
   "outputs": [
    {
     "name": "stderr",
     "output_type": "stream",
     "text": [
      "C:\\Users\\siddh\\AppData\\Local\\Programs\\Python\\Python312\\Lib\\site-packages\\sklearn\\utils\\validation.py:1183: DataConversionWarning: A column-vector y was passed when a 1d array was expected. Please change the shape of y to (n_samples, ), for example using ravel().\n",
      "  y = column_or_1d(y, warn=True)\n"
     ]
    },
    {
     "name": "stdin",
     "output_type": "stream",
     "text": [
      "enter your study time  5\n",
      "enter your previous score  10\n",
      "enter youu attendance  100\n"
     ]
    },
    {
     "name": "stdout",
     "output_type": "stream",
     "text": [
      "you are ['Fail']\n"
     ]
    },
    {
     "name": "stderr",
     "output_type": "stream",
     "text": [
      "C:\\Users\\siddh\\AppData\\Local\\Programs\\Python\\Python312\\Lib\\site-packages\\sklearn\\base.py:465: UserWarning: X does not have valid feature names, but LogisticRegression was fitted with feature names\n",
      "  warnings.warn(\n"
     ]
    }
   ],
   "source": [
    "from sklearn.linear_model import LogisticRegression\n",
    "\n",
    "stu = {\n",
    "    'HoursStudied': [5, 3, 8, 1, 6, 2, 7, 4, 9, 2],\n",
    "    'PreviousScores': [70, 50, 90, 40, 80, 30, 85, 55, 95, 45],\n",
    "    'Attendance': [85, 60, 95, 50, 80, 40, 90, 65, 100, 55],\n",
    "    'Pass': ['Pass', 'Fail', 'Pass', 'Fail', 'Pass', 'Fail', 'Pass', 'Fail', 'Pass', 'Fail']\n",
    "}\n",
    "data = pd.DataFrame(stu)\n",
    "data\n",
    "\n",
    "x = data[['HoursStudied','PreviousScores','Attendance']]\n",
    "y = data[['Pass']]\n",
    "\n",
    "x_train,x_test,y_train,y_test = train_test_split(x,y, test_size=0.2, random_state=42)\n",
    "\n",
    "model = LogisticRegression()\n",
    "\n",
    "model.fit(x_train,y_train)\n",
    "\n",
    "study = int(input('enter your study time '))\n",
    "sco = int(input('enter your previous score '))\n",
    "att = int(input('enter youu attendance '))\n",
    "user = ([[study,sco,att]])\n",
    "res=model.predict(user)\n",
    "print(f'you are {res}')"
   ]
  },
  {
   "cell_type": "code",
   "execution_count": null,
   "id": "cd4af634-b7d6-4526-9f07-3f1c1863ef17",
   "metadata": {},
   "outputs": [],
   "source": []
  }
 ],
 "metadata": {
  "kernelspec": {
   "display_name": "Python 3 (ipykernel)",
   "language": "python",
   "name": "python3"
  },
  "language_info": {
   "codemirror_mode": {
    "name": "ipython",
    "version": 3
   },
   "file_extension": ".py",
   "mimetype": "text/x-python",
   "name": "python",
   "nbconvert_exporter": "python",
   "pygments_lexer": "ipython3",
   "version": "3.12.0"
  }
 },
 "nbformat": 4,
 "nbformat_minor": 5
}
