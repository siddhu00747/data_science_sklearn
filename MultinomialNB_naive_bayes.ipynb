{
 "cells": [
  {
   "cell_type": "code",
   "execution_count": 65,
   "id": "f6f77754-fa25-4a2a-99e8-92696b61c8eb",
   "metadata": {},
   "outputs": [
    {
     "name": "stdin",
     "output_type": "stream",
     "text": [
      "enter your review  good\n"
     ]
    },
    {
     "data": {
      "text/plain": [
       "'Nagitive review'"
      ]
     },
     "execution_count": 65,
     "metadata": {},
     "output_type": "execute_result"
    }
   ],
   "source": [
    "import numpy as np\n",
    "from sklearn.feature_extraction.text import CountVectorizer   #Tokenization hota hai taki text ko computer smjh ske\n",
    "from sklearn.naive_bayes import MultinomialNB  # ye model hai\n",
    "\n",
    "reviews = [\"the product is excellent and works perfectly\" ,\n",
    "           \"bad product\",\n",
    "           \"the product is not good , very disappointing\",\n",
    "           \"terrible product and waste of money\",\n",
    "           \"i love this product and it is amazing\"]\n",
    "sentiments = np.array([1,0,0,0,1])\n",
    "\n",
    "vectorizer = CountVectorizer()\n",
    "\n",
    "x=vectorizer.fit_transform(reviews)   # Tokenization hota hai taki text ko computer smjh ske\n",
    "\n",
    "model = MultinomialNB()\n",
    "model.fit(x,sentiments)\n",
    "\n",
    "def classify(review1):\n",
    "    vec = vectorizer.transform([review1])\n",
    "    result = model.predict(vec)\n",
    "    if result[0] == 1:\n",
    "        return \"Positive review\"\n",
    "    elif result[0] == 0:\n",
    "        return \"Negative review\"\n",
    "        \n",
    "user = input(\"enter your review \")\n",
    "# review1 = user\n",
    "clssifiy(user)\n",
    "\n"
   ]
  },
  {
   "cell_type": "code",
   "execution_count": null,
   "id": "400ed7a2-6e02-475e-91d6-22c043bf2e83",
   "metadata": {},
   "outputs": [],
   "source": []
  }
 ],
 "metadata": {
  "kernelspec": {
   "display_name": "Python 3 (ipykernel)",
   "language": "python",
   "name": "python3"
  },
  "language_info": {
   "codemirror_mode": {
    "name": "ipython",
    "version": 3
   },
   "file_extension": ".py",
   "mimetype": "text/x-python",
   "name": "python",
   "nbconvert_exporter": "python",
   "pygments_lexer": "ipython3",
   "version": "3.12.0"
  }
 },
 "nbformat": 4,
 "nbformat_minor": 5
}
