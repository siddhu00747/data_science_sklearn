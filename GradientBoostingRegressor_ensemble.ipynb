{
 "cells": [
  {
   "cell_type": "code",
   "execution_count": 1,
   "id": "d20d2f8d-07b6-4e8d-9678-78944b1e0e28",
   "metadata": {},
   "outputs": [
    {
     "name": "stdin",
     "output_type": "stream",
     "text": [
      "enter you squrefootage 1500\n",
      "enter your bedrooms  2\n",
      "enter your bathrooms  1\n",
      "enter your location  city\n"
     ]
    },
    {
     "name": "stdout",
     "output_type": "stream",
     "text": [
      "according to your demands, your house price is 262447\n"
     ]
    },
    {
     "name": "stderr",
     "output_type": "stream",
     "text": [
      "C:\\Users\\siddh\\AppData\\Local\\Temp\\ipykernel_26092\\1748642405.py:41: DeprecationWarning: Conversion of an array with ndim > 0 to a scalar is deprecated, and will error in future. Ensure you extract a single element from your array before performing this operation. (Deprecated NumPy 1.25.)\n",
      "  print(f'according to your demands, your house price is {int(res)}')\n"
     ]
    }
   ],
   "source": [
    "import numpy as np\n",
    "import pandas as pd\n",
    "from sklearn.model_selection import train_test_split\n",
    "from sklearn.ensemble import GradientBoostingRegressor   # ye hmara model hai\n",
    "from sklearn.metrics import accuracy_score,classification_report,mean_squared_error\n",
    "\n",
    "data = {'squrefootage':[1500,2000,1200,1800,1350],\n",
    "        'bedrooms':[3,4,2,4,3],\n",
    "        'bathrooms':[2,3,1,2,2],\n",
    "        'location':['suburb','city','rural','city','suburb'],\n",
    "        'price':[250000,300000,180000,280000,220000]}\n",
    "\n",
    "df = pd.DataFrame(data)\n",
    "df\n",
    "\n",
    "df = pd.get_dummies(df, columns=['location'])\n",
    "\n",
    "x = df.drop('price', axis=1)\n",
    "y = df['price']\n",
    "\n",
    "x_train,x_test,y_train,y_test = train_test_split(x,y, test_size=0.2, random_state=42)\n",
    "\n",
    "model = GradientBoostingRegressor()\n",
    "\n",
    "model.fit(x_train,y_train)\n",
    "\n",
    "y_pred = model.predict(x_test)\n",
    "\n",
    "mse = mean_squared_error(y_test,y_pred)\n",
    "mse\n",
    "\n",
    "sq = int(input('enter you squrefootage'))\n",
    "bedrooms = int(input('enter your bedrooms '))\n",
    "bathrooms = int(input('enter your bathrooms '))\n",
    "loc = input('enter your location ')\n",
    "\n",
    "user_data = pd.DataFrame([[sq,bedrooms,bathrooms,loc]], columns=['squrefootage','bedrooms','bathrooms','location'])\n",
    "user_data = pd.get_dummies(user_data,columns=['location'])\n",
    "user_data = user_data.reindex(columns=x.columns, fill_value=0)  # ye hmare purane data se match kr deta hai\n",
    "res= model.predict(user_data)\n",
    "print(f'according to your demands, your house price is {int(res)}')"
   ]
  },
  {
   "cell_type": "code",
   "execution_count": null,
   "id": "9915c0de-96c9-4ac1-9845-6cef42349967",
   "metadata": {},
   "outputs": [],
   "source": []
  }
 ],
 "metadata": {
  "kernelspec": {
   "display_name": "Python 3 (ipykernel)",
   "language": "python",
   "name": "python3"
  },
  "language_info": {
   "codemirror_mode": {
    "name": "ipython",
    "version": 3
   },
   "file_extension": ".py",
   "mimetype": "text/x-python",
   "name": "python",
   "nbconvert_exporter": "python",
   "pygments_lexer": "ipython3",
   "version": "3.12.0"
  }
 },
 "nbformat": 4,
 "nbformat_minor": 5
}
